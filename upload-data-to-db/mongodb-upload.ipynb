{
 "cells": [
  {
   "cell_type": "code",
   "execution_count": 13,
   "id": "a4d4543d-4c50-487b-b00f-7f41945b45b8",
   "metadata": {},
   "outputs": [],
   "source": [
    "import os\n",
    "import csv\n",
    "from pymongo import MongoClient"
   ]
  },
  {
   "cell_type": "code",
   "execution_count": 46,
   "id": "43da5f42-9b7a-45c5-b116-dbd8f866c278",
   "metadata": {},
   "outputs": [],
   "source": [
    "client = MongoClient(\"enter your mongodb URL\")\n",
    "database_name = client[\"phising\"]\n",
    "collection = database_name['phising']"
   ]
  },
  {
   "cell_type": "code",
   "execution_count": null,
   "id": "6350adfc",
   "metadata": {},
   "outputs": [],
   "source": [
    "# CSV file path\n",
    "csv_file_path = \"enter entire csv path\"\n",
    "\n",
    "with open(csv_file_path, mode='r') as csvfile:\n",
    "  reader = csv.DictReader(csvfile)\n",
    "  for row in reader:\n",
    "    collection.insert_one(row)\n",
    "  print(f\"uploaded to mongodb\")"
   ]
  },
  {
   "cell_type": "code",
   "execution_count": null,
   "id": "6265f27e",
   "metadata": {},
   "outputs": [],
   "source": []
  }
 ],
 "metadata": {
  "kernelspec": {
   "display_name": "Python 3",
   "language": "python",
   "name": "python3"
  },
  "language_info": {
   "codemirror_mode": {
    "name": "ipython",
    "version": 3
   },
   "file_extension": ".py",
   "mimetype": "text/x-python",
   "name": "python",
   "nbconvert_exporter": "python",
   "pygments_lexer": "ipython3",
   "version": "3.8.0"
  }
 },
 "nbformat": 4,
 "nbformat_minor": 5
}
